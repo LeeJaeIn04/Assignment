{
 "cells": [
  {
   "cell_type": "markdown",
   "id": "44f9146a-e4c8-4568-b2e7-ef812c9ef7c6",
   "metadata": {},
   "source": [
    "# 1. LeetCode 225. Implement Stack using Queues"
   ]
  },
  {
   "cell_type": "code",
   "execution_count": null,
   "id": "0021dfc8-c867-4b24-ba36-16c0119b79a0",
   "metadata": {},
   "outputs": [],
   "source": [
    "class MyStack:\n",
    "    def __init__(self):\n",
    "        self.q1 = []\n",
    "        self.q2 = []\n",
    "\n",
    "    def push(self, x: int) -> None:\n",
    "        self.q2.append(x)  \n",
    "        while self.q1:     \n",
    "            self.q2.append(self.q1.pop(0))  \n",
    "        self.q1, self.q2 = self.q2, self.q1  \n",
    "\n",
    "    def pop(self) -> int:\n",
    "        return self.q1.pop(0)  \n",
    "\n",
    "    def top(self) -> int:\n",
    "        return self.q1[0] \n",
    "\n",
    "    def empty(self) -> bool:\n",
    "        return len(self.q1) == 0"
   ]
  },
  {
   "cell_type": "markdown",
   "id": "80abec18-63c7-43d6-a7dd-a6711a832258",
   "metadata": {},
   "source": [
    "# 2. LeetCode 232. Implement Queue using Stacks"
   ]
  },
  {
   "cell_type": "code",
   "execution_count": null,
   "id": "06ae2d06-02fb-4675-a122-33def2a2a98b",
   "metadata": {},
   "outputs": [],
   "source": [
    "class MyQueue(object):\n",
    "    def __init__(self):\n",
    "        self.stack_in = []   \n",
    "        self.stack_out = [] \n",
    "\n",
    "    def push(self, x):\n",
    "        \"\"\"\n",
    "        :type x: int\n",
    "        :rtype: None\n",
    "        \"\"\"\n",
    "        self.stack_in.append(x)\n",
    "\n",
    "    def pop(self):\n",
    "        \"\"\"\n",
    "        :rtype: int\n",
    "        \"\"\"\n",
    "        self._transfer_if_needed()\n",
    "        return self.stack_out.pop()\n",
    "\n",
    "    def peek(self):\n",
    "        \"\"\"\n",
    "        :rtype: int\n",
    "        \"\"\"\n",
    "        self._transfer_if_needed()\n",
    "        return self.stack_out[-1]\n",
    "\n",
    "    def empty(self):\n",
    "        \"\"\"\n",
    "        :rtype: bool\n",
    "        \"\"\"\n",
    "        return not self.stack_in and not self.stack_out\n",
    "\n",
    "    def _transfer_if_needed(self):\n",
    "        if not self.stack_out:\n",
    "            while self.stack_in:\n",
    "                self.stack_out.append(self.stack_in.pop()) \n",
    "                "
   ]
  },
  {
   "cell_type": "markdown",
   "id": "234cb66a-7b86-4cba-a34a-80d3cb04cf18",
   "metadata": {},
   "source": [
    "# 3. 교재 Chapter 07"
   ]
  },
  {
   "cell_type": "markdown",
   "id": "97ecbb3d-f0f5-477e-a58e-450d07636c1d",
   "metadata": {},
   "source": [
    "## 01"
   ]
  },
  {
   "cell_type": "code",
   "execution_count": null,
   "id": "fea9ec1d-ab91-4147-b2f4-b09f634a6857",
   "metadata": {},
   "outputs": [],
   "source": [
    "class ListQueue:\n",
    "    def __init__(self):\n",
    "        self.__queue = []\n",
    "\n",
    "    def enqueue(self, x):\n",
    "        self.__queue.insert(0, x)\n",
    "\n",
    "    def dequeue(self):\n",
    "        return self.__queue.pop()\n",
    "\n",
    "    def front(self):\n",
    "        return self.__queue[-1]\n",
    "\n",
    "    def isEmpty(self) -> bool:\n",
    "        return len(self.__queue) == 0\n",
    "\n",
    "    def dequeueAll(self):\n",
    "        self.__queue.clear()\n"
   ]
  },
  {
   "cell_type": "markdown",
   "id": "3d8faea6-7a7b-473e-bb37-758c6e938e83",
   "metadata": {},
   "source": [
    "## 02"
   ]
  },
  {
   "cell_type": "code",
   "execution_count": null,
   "id": "f36348bb-3035-465b-9402-35f21c1e4efe",
   "metadata": {},
   "outputs": [],
   "source": [
    "def is_wsw_form(s: str) -> bool:\n",
    "    queue = []\n",
    "    length = len(s)\n",
    "\n",
    "    if length % 2 == 0:\n",
    "        return False\n",
    "\n",
    "    mid = length // 2\n",
    "\n",
    "    for i in range(mid):\n",
    "        queue.append(s[i])\n",
    "\n",
    "    for i in range(mid + 1, length):\n",
    "        if not queue or queue.pop(0) != s[i]:\n",
    "            return False\n",
    "\n",
    "    return True"
   ]
  },
  {
   "cell_type": "markdown",
   "id": "999842b4-2a11-4735-b8ed-cf79660e12dc",
   "metadata": {},
   "source": [
    "## 03"
   ]
  },
  {
   "cell_type": "code",
   "execution_count": null,
   "id": "5410d648-06ea-4d72-acfc-308b3614ee18",
   "metadata": {},
   "outputs": [],
   "source": [
    "def copy_linked_queue_via_temp(a: LinkedQueue) -> LinkedQueue:\n",
    "    b = LinkedQueue()\n",
    "    temp = LinkedQueue()\n",
    "\n",
    "    while not a.isEmpty():\n",
    "        item = a.dequeue() \n",
    "        temp.enqueue(item) \n",
    "        b.enqueue(item)     \n",
    "\n",
    "    while not temp.isEmpty():\n",
    "        a.enqueue(temp.dequeue())\n",
    "\n",
    "    return b\n"
   ]
  },
  {
   "cell_type": "markdown",
   "id": "a9e8e8e0-94c9-4128-a87d-19b7bd90a9ac",
   "metadata": {},
   "source": [
    "## 04"
   ]
  },
  {
   "cell_type": "code",
   "execution_count": null,
   "id": "db507551-40e6-4c75-8193-e09b6407eb52",
   "metadata": {},
   "outputs": [],
   "source": [
    "class StackUsingQueues:\n",
    "    def __init__(self):\n",
    "        self.q1 = []\n",
    "        self.q2 = []\n",
    "\n",
    "    def push(self, x):\n",
    "        self.q1.append(x)\n",
    "\n",
    "    def pop(self):\n",
    "        if not self.q1:\n",
    "            return False\n",
    "\n",
    "        while len(self.q1) > 1:\n",
    "            self.q2.append(self.q1.pop(0))  \n",
    "        popped = self.q1.pop(0) \n",
    "        self.q1, self.q2 = self.q2, self.q1\n",
    "\n",
    "        return popped\n"
   ]
  },
  {
   "cell_type": "markdown",
   "id": "cf3c3d5f-17c3-4cd8-bc63-1f7d4cfe00a4",
   "metadata": {},
   "source": [
    "## 05"
   ]
  },
  {
   "cell_type": "code",
   "execution_count": null,
   "id": "b5875b09-aaeb-4ce2-a5b5-826de9d83e70",
   "metadata": {},
   "outputs": [],
   "source": [
    "class QueueUsingStacks:\n",
    "    def __init__(self):\n",
    "        self.s1 = []\n",
    "        self.s2 = []\n",
    "\n",
    "    def enqueue(self, x):\n",
    "        self.s1.append(x)\n",
    "\n",
    "    def dequeue(self):\n",
    "        if not self.s1:\n",
    "            return False\n",
    "            \n",
    "        while self.s1:\n",
    "            self.s2.append(self.s1.pop())\n",
    "\n",
    "        item = self.s2.pop()\n",
    "\n",
    "        while self.s2:\n",
    "            self.s1.append(self.s2.pop())\n",
    "\n",
    "        return item"
   ]
  },
  {
   "cell_type": "markdown",
   "id": "d8f83ed8-5d85-49db-a819-ec4d102823f6",
   "metadata": {},
   "source": [
    "## 06"
   ]
  },
  {
   "cell_type": "markdown",
   "id": "4b7b4cda-a8e6-49b1-a5da-ce4e969496d8",
   "metadata": {},
   "source": [
    "### O(1), O(1)"
   ]
  },
  {
   "cell_type": "markdown",
   "id": "9391aa96-b375-435f-b6f2-db5ad25228c6",
   "metadata": {},
   "source": [
    "## 07"
   ]
  },
  {
   "cell_type": "markdown",
   "id": "055ca68c-db3c-4a43-8407-c650575c7ab6",
   "metadata": {},
   "source": [
    "### enqueue(): O(n)\n",
    "### dequeue(): O(1)"
   ]
  },
  {
   "cell_type": "markdown",
   "id": "a04690a2-8a09-4f2e-8f74-ea8714d357c7",
   "metadata": {},
   "source": [
    "## 08"
   ]
  },
  {
   "cell_type": "code",
   "execution_count": null,
   "id": "985bd78e-4755-43f9-8caa-45877b3f8554",
   "metadata": {},
   "outputs": [],
   "source": [
    "class Deque:\n",
    "    def __init__(self):\n",
    "        self.__queue = []\n",
    "\n",
    "    def enqueueRear(self, x):\n",
    "        self.__queue.append(x)\n",
    "\n",
    "    def enqueueFront(self, x):\n",
    "        self.__queue.insert(0, x)\n",
    "\n",
    "    def dequeueFront(self):\n",
    "        if self.isEmpty():\n",
    "            return None\n",
    "        return self.__queue.pop(0)\n",
    "\n",
    "    def dequeueRear(self):\n",
    "        if self.isEmpty():\n",
    "            return None\n",
    "        return self.__queue.pop()\n",
    "\n",
    "    def front(self):\n",
    "        if self.isEmpty():\n",
    "            return None\n",
    "        return self.__queue[0]\n",
    "\n",
    "    def rear(self):\n",
    "        if self.isEmpty():\n",
    "            return None\n",
    "        return self.__queue[-1]\n",
    "\n",
    "    def isEmpty(self) -> bool:\n",
    "        return len(self.__queue) == 0\n",
    "\n",
    "    def dequeueAll(self):\n",
    "        self.__queue.clear()\n",
    "\n",
    "    def printDeque(self):\n",
    "        print(\"Deque from front:\", end=' ')\n",
    "        for item in self.__queue:\n",
    "            print(item, end=' ')\n",
    "        print()"
   ]
  }
 ],
 "metadata": {
  "kernelspec": {
   "display_name": "Python 3 (ipykernel)",
   "language": "python",
   "name": "python3"
  },
  "language_info": {
   "codemirror_mode": {
    "name": "ipython",
    "version": 3
   },
   "file_extension": ".py",
   "mimetype": "text/x-python",
   "name": "python",
   "nbconvert_exporter": "python",
   "pygments_lexer": "ipython3",
   "version": "3.12.7"
  }
 },
 "nbformat": 4,
 "nbformat_minor": 5
}
