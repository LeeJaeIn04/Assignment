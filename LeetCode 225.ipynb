{
 "cells": [
  {
   "cell_type": "code",
   "execution_count": null,
   "id": "43652edc-0b42-441b-86f7-44c10ee5b497",
   "metadata": {},
   "outputs": [],
   "source": [
    "# LeetCode 225. Implement Stack using Queues\n",
    "\n",
    "class MyStack:\n",
    "    def __init__(self):\n",
    "        self.q1 = []\n",
    "        self.q2 = []\n",
    "\n",
    "    def push(self, x: int) -> None:\n",
    "        self.q2.append(x)  # 새 원소를 q2 뒤에 넣고\n",
    "        while self.q1:     # q1에 있던 것들을 q2로 이동\n",
    "            self.q2.append(self.q1.pop(0))  # pop from front\n",
    "        self.q1, self.q2 = self.q2, self.q1  # 큐 교체\n",
    "\n",
    "    def pop(self) -> int:\n",
    "        return self.q1.pop(0)  # front에서 제거\n",
    "\n",
    "    def top(self) -> int:\n",
    "        return self.q1[0]  # front 보기\n",
    "\n",
    "    def empty(self) -> bool:\n",
    "        return len(self.q1) == 0"
   ]
  }
 ],
 "metadata": {
  "kernelspec": {
   "display_name": "Python 3 (ipykernel)",
   "language": "python",
   "name": "python3"
  },
  "language_info": {
   "codemirror_mode": {
    "name": "ipython",
    "version": 3
   },
   "file_extension": ".py",
   "mimetype": "text/x-python",
   "name": "python",
   "nbconvert_exporter": "python",
   "pygments_lexer": "ipython3",
   "version": "3.12.7"
  }
 },
 "nbformat": 4,
 "nbformat_minor": 5
}
