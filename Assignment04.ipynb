{
 "cells": [
  {
   "cell_type": "markdown",
   "id": "44f9146a-e4c8-4568-b2e7-ef812c9ef7c6",
   "metadata": {},
   "source": [
    "# LeetCode 225. Implement Stack using Queues"
   ]
  },
  {
   "cell_type": "code",
   "execution_count": null,
   "id": "0021dfc8-c867-4b24-ba36-16c0119b79a0",
   "metadata": {},
   "outputs": [],
   "source": [
    "class MyStack:\n",
    "    def __init__(self):\n",
    "        self.q1 = []\n",
    "        self.q2 = []\n",
    "\n",
    "    def push(self, x: int) -> None:\n",
    "        self.q2.append(x)  \n",
    "        while self.q1:     \n",
    "            self.q2.append(self.q1.pop(0))  \n",
    "        self.q1, self.q2 = self.q2, self.q1  \n",
    "\n",
    "    def pop(self) -> int:\n",
    "        return self.q1.pop(0)  \n",
    "\n",
    "    def top(self) -> int:\n",
    "        return self.q1[0] \n",
    "\n",
    "    def empty(self) -> bool:\n",
    "        return len(self.q1) == 0"
   ]
  },
  {
   "cell_type": "markdown",
   "id": "c2eee494-4aa8-4e47-a789-73da520e84a3",
   "metadata": {},
   "source": [
    "### 큐는 앞에서만 꺼내기가 가능하고, 스택은 맨 마지막에 들어온 것만 꺼내기가 가능하므로 큐 하나로는 부족하므로 두 개의 큐를 만들어야 함."
   ]
  },
  {
   "cell_type": "markdown",
   "id": "80abec18-63c7-43d6-a7dd-a6711a832258",
   "metadata": {},
   "source": [
    "# LeetCode 232. Implement Queue using Stacks"
   ]
  },
  {
   "cell_type": "code",
   "execution_count": null,
   "id": "06ae2d06-02fb-4675-a122-33def2a2a98b",
   "metadata": {},
   "outputs": [],
   "source": [
    "class MyQueue(object):\n",
    "    def __init__(self):\n",
    "        self.stack_in = []   \n",
    "        self.stack_out = [] \n",
    "\n",
    "    def push(self, x):\n",
    "        \"\"\"\n",
    "        :type x: int\n",
    "        :rtype: None\n",
    "        \"\"\"\n",
    "        self.stack_in.append(x)\n",
    "\n",
    "    def pop(self):\n",
    "        \"\"\"\n",
    "        :rtype: int\n",
    "        \"\"\"\n",
    "        self._transfer_if_needed()\n",
    "        return self.stack_out.pop()\n",
    "\n",
    "    def peek(self):\n",
    "        \"\"\"\n",
    "        :rtype: int\n",
    "        \"\"\"\n",
    "        self._transfer_if_needed()\n",
    "        return self.stack_out[-1]\n",
    "\n",
    "    def empty(self):\n",
    "        \"\"\"\n",
    "        :rtype: bool\n",
    "        \"\"\"\n",
    "        return not self.stack_in and not self.stack_out\n",
    "\n",
    "    def _transfer_if_needed(self):\n",
    "        if not self.stack_out:\n",
    "            while self.stack_in:\n",
    "                self.stack_out.append(self.stack_in.pop()) \n",
    "                "
   ]
  }
 ],
 "metadata": {
  "kernelspec": {
   "display_name": "Python 3 (ipykernel)",
   "language": "python",
   "name": "python3"
  },
  "language_info": {
   "codemirror_mode": {
    "name": "ipython",
    "version": 3
   },
   "file_extension": ".py",
   "mimetype": "text/x-python",
   "name": "python",
   "nbconvert_exporter": "python",
   "pygments_lexer": "ipython3",
   "version": "3.12.7"
  }
 },
 "nbformat": 4,
 "nbformat_minor": 5
}
